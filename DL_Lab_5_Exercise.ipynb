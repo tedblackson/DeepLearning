{
  "nbformat": 4,
  "nbformat_minor": 0,
  "metadata": {
    "colab": {
      "provenance": [],
      "collapsed_sections": [
        "90p9pHBqQAka"
      ],
      "authorship_tag": "ABX9TyPWkjW6jGbJCDNAqzPgDlIA",
      "include_colab_link": true
    },
    "kernelspec": {
      "name": "python3",
      "display_name": "Python 3"
    },
    "language_info": {
      "name": "python"
    }
  },
  "cells": [
    {
      "cell_type": "markdown",
      "metadata": {
        "id": "view-in-github",
        "colab_type": "text"
      },
      "source": [
        "<a href=\"https://colab.research.google.com/github/tedblackson/DeepLearning/blob/main/DL_Lab_5_Exercise.ipynb\" target=\"_parent\"><img src=\"https://colab.research.google.com/assets/colab-badge.svg\" alt=\"Open In Colab\"/></a>"
      ]
    },
    {
      "cell_type": "code",
      "source": [
        "import torch"
      ],
      "metadata": {
        "id": "TjGivVaiMJBd"
      },
      "execution_count": 7,
      "outputs": []
    },
    {
      "cell_type": "markdown",
      "source": [
        "#Dense Layer"
      ],
      "metadata": {
        "id": "90p9pHBqQAka"
      }
    },
    {
      "cell_type": "code",
      "source": [
        "class DenseLayer:\n",
        "  # Layer initialization\n",
        "  def __init__(self, n_inputs, n_neurons):\n",
        "    # Initialize weights and biases\n",
        "    self.weights = 0.01 * torch.rand(n_inputs, n_neurons)\n",
        "    self.biases = torch.zeros((1, n_neurons))\n",
        "\n",
        "  # Forward pass\n",
        "  def forward(self, inputs):\n",
        "    # record the inputs\n",
        "    self.inputs = inputs\n",
        "    # Calculate output values from inputs, weights and biases\n",
        "    self.output = torch.matmul(inputs, self.weights) + self.biases\n",
        "\n",
        "  # Backward pass\n",
        "  def backward(self, dvalues):\n",
        "        self.dweights = torch.matmul(self.inputs.T, dvalues)\n",
        "        self.dbiases = torch.sum(dvalues, axis=0, keepdims=True)\n",
        "        self.dinputs = torch.matmul(dvalues, self.weights.T)"
      ],
      "metadata": {
        "id": "aEVs5GACJXSE"
      },
      "execution_count": 8,
      "outputs": []
    },
    {
      "cell_type": "markdown",
      "source": [
        "#Relu Activation"
      ],
      "metadata": {
        "id": "XELHrzX2QE9P"
      }
    },
    {
      "cell_type": "code",
      "execution_count": 9,
      "metadata": {
        "id": "Pf9ohp7ZJLlg"
      },
      "outputs": [],
      "source": [
        "class Activation_ReLU:\n",
        "  # Forward pass\n",
        "  def forward(self, inputs):\n",
        "    # Remember input values\n",
        "    self.inputs = inputs\n",
        "    self.output = torch.max(torch.tensor(0),inputs)\n",
        "  # Backward pass\n",
        "  def backward(self, dvalues):\n",
        "    self.dinputs = dvalues\n",
        "    # Zero gradient where input values were negative\n",
        "    self.dinputs[self.inputs <= 0] = 0"
      ]
    },
    {
      "cell_type": "markdown",
      "source": [
        "#Sigmoid Activation"
      ],
      "metadata": {
        "id": "lwwLBo4sQHtw"
      }
    },
    {
      "cell_type": "code",
      "source": [
        "\n",
        "class Activation_Sigmoid:\n",
        "    # Forward pass\n",
        "    def forward(self, inputs):\n",
        "        # Remember input values\n",
        "        self.inputs = inputs\n",
        "        # Calculate sigmoid activation\n",
        "        self.output = 1 / (1 + torch.exp(-inputs))\n",
        "\n",
        "    # Backward pass\n",
        "    def backward(self, dvalues):\n",
        "        self.dinputs = dvalues * (self.output * (1 - self.output))\n"
      ],
      "metadata": {
        "id": "eFlg4d98MGd9"
      },
      "execution_count": 10,
      "outputs": []
    },
    {
      "cell_type": "markdown",
      "source": [
        "#Neural Network Architecture"
      ],
      "metadata": {
        "id": "_mEITK34PvQt"
      }
    },
    {
      "cell_type": "code",
      "source": [
        "class NeuralNetwork:\n",
        "    def __init__(self, n_inputs, n_hidden, n_output):\n",
        "        self.hidden_layer = DenseLayer(n_inputs, n_hidden)\n",
        "        self.relu_activation = Activation_ReLU()\n",
        "\n",
        "        self.output_layer = DenseLayer(n_hidden, n_output)\n",
        "        self.sigmoid_activation = Activation_Sigmoid()\n",
        "\n",
        "    def forward(self, inputs):\n",
        "        self.hidden_layer.forward(inputs)\n",
        "        self.relu_activation.forward(self.hidden_layer.output)\n",
        "\n",
        "        self.output_layer.forward(self.relu_activation.output)\n",
        "        self.sigmoid_activation.forward(self.output_layer.output)\n",
        "\n",
        "    def backward(self, dvalues):\n",
        "        self.sigmoid_activation.backward(dvalues)\n",
        "        self.output_layer.backward(self.sigmoid_activation.dinputs)\n",
        "\n",
        "        self.relu_activation.backward(self.output_layer.dinputs)\n",
        "        self.hidden_layer.backward(self.relu_activation.dinputs)"
      ],
      "metadata": {
        "id": "U-R_DxR9M6aS"
      },
      "execution_count": 11,
      "outputs": []
    },
    {
      "cell_type": "markdown",
      "source": [
        "# Example usage"
      ],
      "metadata": {
        "id": "YYV04rnOPmb-"
      }
    },
    {
      "cell_type": "code",
      "source": [
        "\n",
        "nn = NeuralNetwork(n_inputs=2, n_hidden=2, n_output=2)\n",
        "\n",
        "# Dummy data\n",
        "inputs = torch.tensor([[0.5, 0.7]])\n",
        "targets = torch.tensor([[1, 0]])\n",
        "\n",
        "# Training loop\n",
        "epochs = 10\n",
        "for epoch in range(epochs):\n",
        "    # Forward pass\n",
        "    nn.forward(inputs)\n",
        "\n",
        "    # Calculating the loss\n",
        "    loss = torch.sum((nn.sigmoid_activation.output - targets) ** 2)\n",
        "\n",
        "    # Backward pass to update gradients\n",
        "    nn.backward(nn.sigmoid_activation.output - targets)\n",
        "\n",
        "    # Update parameters\n",
        "    learning_rate = 0.01\n",
        "    nn.hidden_layer.weights -= learning_rate * nn.hidden_layer.dweights\n",
        "    nn.hidden_layer.biases -= learning_rate * nn.hidden_layer.dbiases\n",
        "    nn.output_layer.weights -= learning_rate * nn.output_layer.dweights\n",
        "    nn.output_layer.biases -= learning_rate * nn.output_layer.dbiases\n",
        "\n",
        "\n",
        "    print(f'Epoch {epoch+1}/{epochs}, Loss: {loss.item()}')\n",
        "\n",
        "\n",
        "nn.forward(inputs)\n",
        "print(\"Final Predictions:\", nn.sigmoid_activation.output)"
      ],
      "metadata": {
        "colab": {
          "base_uri": "https://localhost:8080/"
        },
        "id": "TftlS94BM7sl",
        "outputId": "d431b559-1dee-4545-8e12-b3601b4743d9"
      },
      "execution_count": 15,
      "outputs": [
        {
          "output_type": "stream",
          "name": "stdout",
          "text": [
            "Epoch 1/10, Loss: 0.4999989867210388\n",
            "Epoch 2/10, Loss: 0.49937403202056885\n",
            "Epoch 3/10, Loss: 0.49874991178512573\n",
            "Epoch 4/10, Loss: 0.49812668561935425\n",
            "Epoch 5/10, Loss: 0.49750417470932007\n",
            "Epoch 6/10, Loss: 0.4968824088573456\n",
            "Epoch 7/10, Loss: 0.49626147747039795\n",
            "Epoch 8/10, Loss: 0.49564129114151\n",
            "Epoch 9/10, Loss: 0.495021790266037\n",
            "Epoch 10/10, Loss: 0.49440324306488037\n",
            "Final Predictions: tensor([[0.5032, 0.4969]])\n"
          ]
        }
      ]
    }
  ]
}