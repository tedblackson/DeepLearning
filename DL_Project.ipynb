{
  "cells": [
    {
      "cell_type": "markdown",
      "metadata": {
        "id": "view-in-github",
        "colab_type": "text"
      },
      "source": [
        "<a href=\"https://colab.research.google.com/github/tedblackson/DeepLearning/blob/main/DL_Project.ipynb\" target=\"_parent\"><img src=\"https://colab.research.google.com/assets/colab-badge.svg\" alt=\"Open In Colab\"/></a>"
      ]
    },
    {
      "cell_type": "markdown",
      "source": [
        "#Digit classification Using The MNIST Dataset\n",
        "\n",
        "\n",
        "This projects aims to classify the digits from 0 - 9 using a Convolutional Neural Network."
      ],
      "metadata": {
        "id": "rx-hjHTxEtKr"
      }
    },
    {
      "cell_type": "code",
      "execution_count": 2,
      "metadata": {
        "id": "9r0pH3kmUxeu",
        "colab": {
          "base_uri": "https://localhost:8080/"
        },
        "outputId": "8ed29012-0f45-4f42-ae44-7451784f25bb"
      },
      "outputs": [
        {
          "output_type": "stream",
          "name": "stdout",
          "text": [
            "Downloading data from https://storage.googleapis.com/tensorflow/tf-keras-datasets/mnist.npz\n",
            "11490434/11490434 [==============================] - 0s 0us/step\n"
          ]
        }
      ],
      "source": [
        "import keras\n",
        "from keras.datasets import mnist\n",
        "from keras.models import Sequential\n",
        "from keras.layers import Dense , Flatten, Dropout, Conv2D, MaxPooling2D\n",
        "from keras.optimizers import SGD\n",
        "from keras.utils import to_categorical\n",
        "from keras import backend as K\n",
        "from sklearn.model_selection import KFold\n",
        "\n",
        "(x_train, y_train), (x_test, y_test) = mnist.load_data()"
      ]
    },
    {
      "cell_type": "code",
      "execution_count": 3,
      "metadata": {
        "colab": {
          "base_uri": "https://localhost:8080/"
        },
        "id": "ammplJhjVda1",
        "outputId": "29b58790-e205-463c-86ae-ec1f2debae04"
      },
      "outputs": [
        {
          "output_type": "stream",
          "name": "stdout",
          "text": [
            "(60000, 28, 28, 1)\n"
          ]
        }
      ],
      "source": [
        "x_train = x_train.reshape(x_train.shape[0], x_train.shape[1], x_train.shape[2], 1)\n",
        "x_test = x_test.reshape(x_test.shape[0], x_test.shape[1], x_train.shape[2], 1)\n",
        "input_shape = x_train.shape\n",
        "num_classes = 10\n",
        "\n",
        "y_train = to_categorical(y_train, num_classes)\n",
        "y_test = to_categorical(y_test, num_classes)\n",
        "\n",
        "x_train = x_train.astype('float32')\n",
        "x_test = x_test.astype('float32')\n",
        "x_train /= 255\n",
        "x_test /= 255\n",
        "\n",
        "print(input_shape)\n"
      ]
    },
    {
      "cell_type": "code",
      "execution_count": 4,
      "metadata": {
        "id": "HvJJitiaeBs_"
      },
      "outputs": [],
      "source": [
        "batch_size = 32\n",
        "epochs = 10\n",
        "\n",
        "model = Sequential()\n",
        "model.add(Conv2D(32, (3, 3), activation=\"relu\", kernel_initializer='he_uniform',\n",
        "           input_shape=(28, 28, 1)))\n",
        "model.add(MaxPooling2D(2, 2))\n",
        "model.add(Flatten())\n",
        "model.add(Dense(100, activation=\"relu\", kernel_initializer='he_uniform'))\n",
        "model.add(Dense(10, activation=\"softmax\"))\n",
        "opt = SGD(learning_rate=0.01, momentum=0.9)\n",
        "model.compile(loss=\"categorical_crossentropy\", optimizer=opt, metrics = ['accuracy'])"
      ]
    },
    {
      "cell_type": "code",
      "execution_count": 5,
      "metadata": {
        "colab": {
          "base_uri": "https://localhost:8080/"
        },
        "id": "0qzRS4dUfRcu",
        "outputId": "1c9d4bea-e1cc-491e-a6fa-e43d17e028ad"
      },
      "outputs": [
        {
          "output_type": "stream",
          "name": "stdout",
          "text": [
            "Epoch 1/10\n",
            "1875/1875 [==============================] - 44s 23ms/step - loss: 0.1810 - accuracy: 0.9451 - val_loss: 0.0844 - val_accuracy: 0.9726\n",
            "Epoch 2/10\n",
            "1875/1875 [==============================] - 39s 21ms/step - loss: 0.0628 - accuracy: 0.9808 - val_loss: 0.0661 - val_accuracy: 0.9779\n",
            "Epoch 3/10\n",
            "1875/1875 [==============================] - 37s 20ms/step - loss: 0.0412 - accuracy: 0.9875 - val_loss: 0.0469 - val_accuracy: 0.9833\n",
            "Epoch 4/10\n",
            "1875/1875 [==============================] - 39s 21ms/step - loss: 0.0282 - accuracy: 0.9915 - val_loss: 0.0414 - val_accuracy: 0.9868\n",
            "Epoch 5/10\n",
            "1875/1875 [==============================] - 47s 25ms/step - loss: 0.0197 - accuracy: 0.9943 - val_loss: 0.0459 - val_accuracy: 0.9847\n",
            "Epoch 6/10\n",
            "1875/1875 [==============================] - 38s 20ms/step - loss: 0.0142 - accuracy: 0.9961 - val_loss: 0.0396 - val_accuracy: 0.9864\n",
            "Epoch 7/10\n",
            "1875/1875 [==============================] - 40s 22ms/step - loss: 0.0100 - accuracy: 0.9973 - val_loss: 0.0417 - val_accuracy: 0.9865\n",
            "Epoch 8/10\n",
            "1875/1875 [==============================] - 39s 21ms/step - loss: 0.0073 - accuracy: 0.9982 - val_loss: 0.0391 - val_accuracy: 0.9880\n",
            "Epoch 9/10\n",
            "1875/1875 [==============================] - 55s 29ms/step - loss: 0.0042 - accuracy: 0.9992 - val_loss: 0.0406 - val_accuracy: 0.9874\n",
            "Epoch 10/10\n",
            "1875/1875 [==============================] - 37s 20ms/step - loss: 0.0032 - accuracy: 0.9994 - val_loss: 0.0400 - val_accuracy: 0.9874\n",
            "313/313 [==============================] - 2s 6ms/step - loss: 0.0400 - accuracy: 0.9874\n",
            "> 98.740\n"
          ]
        }
      ],
      "source": [
        "\n",
        "\n",
        "history = model.fit(x_train, y_train, epochs=10, batch_size=32, validation_data=(x_test, y_test), verbose=1)\n",
        "# evaluate model\n",
        "_, acc = model.evaluate(x_test, y_test, verbose=1)\n",
        "print('> %.3f' % (acc * 100.0))\n"
      ]
    },
    {
      "cell_type": "code",
      "source": [
        "from google.colab import drive\n",
        "drive.mount('/content/drive')\n"
      ],
      "metadata": {
        "colab": {
          "base_uri": "https://localhost:8080/"
        },
        "id": "WWcKk46reGRz",
        "outputId": "cfc730ab-f82c-4294-edab-c695823f0cee"
      },
      "execution_count": 9,
      "outputs": [
        {
          "output_type": "stream",
          "name": "stdout",
          "text": [
            "Mounted at /content/drive\n"
          ]
        }
      ]
    },
    {
      "cell_type": "code",
      "source": [
        "model.save(\"/content/drive/MyDrive/digit_classifier.h5\")"
      ],
      "metadata": {
        "id": "-QpNZ-Epb0U3"
      },
      "execution_count": 10,
      "outputs": []
    },
    {
      "cell_type": "code",
      "execution_count": 15,
      "metadata": {
        "id": "qQ_H9t8vijC8",
        "outputId": "0146f998-e286-41eb-86c6-758679912d11",
        "colab": {
          "base_uri": "https://localhost:8080/"
        }
      },
      "outputs": [
        {
          "output_type": "stream",
          "name": "stdout",
          "text": [
            "Drive already mounted at /content/drive; to attempt to forcibly remount, call drive.mount(\"/content/drive\", force_remount=True).\n",
            "Test loss: 0.03998231515288353\n",
            "Test accuracy: 0.9873999953269958\n"
          ]
        }
      ],
      "source": [
        "from keras.models import load_model\n",
        "from google.colab import drive\n",
        "\n",
        "drive.mount('/content/drive')\n",
        "\n",
        "loaded_model = load_model(\"/content/drive/MyDrive/digit_classifier.h5\")\n",
        "\n",
        "score = loaded_model.evaluate(x_test, y_test, verbose=0)\n",
        "\n",
        "print('Test loss:', score[0])\n",
        "print('Test accuracy:', score[1])\n"
      ]
    }
  ],
  "metadata": {
    "accelerator": "TPU",
    "colab": {
      "provenance": [],
      "authorship_tag": "ABX9TyPk0kj9XFwl2dmFJ+SRMwMh",
      "include_colab_link": true
    },
    "kernelspec": {
      "display_name": "Python 3",
      "name": "python3"
    },
    "language_info": {
      "name": "python"
    }
  },
  "nbformat": 4,
  "nbformat_minor": 0
}