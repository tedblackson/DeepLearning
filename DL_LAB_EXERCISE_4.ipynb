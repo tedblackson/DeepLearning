{
  "nbformat": 4,
  "nbformat_minor": 0,
  "metadata": {
    "colab": {
      "provenance": [],
      "authorship_tag": "ABX9TyOu9+PuBvDtgOEzGieyhdrT",
      "include_colab_link": true
    },
    "kernelspec": {
      "name": "python3",
      "display_name": "Python 3"
    },
    "language_info": {
      "name": "python"
    }
  },
  "cells": [
    {
      "cell_type": "markdown",
      "metadata": {
        "id": "view-in-github",
        "colab_type": "text"
      },
      "source": [
        "<a href=\"https://colab.research.google.com/github/tedblackson/DeepLearning/blob/main/DL_LAB_EXERCISE_4.ipynb\" target=\"_parent\"><img src=\"https://colab.research.google.com/assets/colab-badge.svg\" alt=\"Open In Colab\"/></a>"
      ]
    },
    {
      "cell_type": "code",
      "source": [
        "import torch"
      ],
      "metadata": {
        "id": "ZdYrVFKVB1s8"
      },
      "execution_count": 46,
      "outputs": []
    },
    {
      "cell_type": "code",
      "source": [
        "class DenseLayer:\n",
        "  # Layer initialization\n",
        "  def __init__(self, n_inputs, n_neurons):\n",
        "    # Initialize weights and biases\n",
        "    self.weights = 0.01 * torch.rand(n_inputs, n_neurons)\n",
        "    self.biases = torch.zeros((1, n_neurons))\n",
        "\n",
        "  # Forward pass\n",
        "  def forward(self, inputs):\n",
        "    # Calculate output values from inputs, weights and biases\n",
        "    self.output = torch.matmul(inputs, self.weights) + self.biases"
      ],
      "metadata": {
        "id": "XDc01EUoAcr_"
      },
      "execution_count": 47,
      "outputs": []
    },
    {
      "cell_type": "code",
      "source": [
        "class Activation_Linear:\n",
        "  def forward (self, inputs):\n",
        "    self.output = inputs\n"
      ],
      "metadata": {
        "id": "MF4PdGJDCNRA"
      },
      "execution_count": 48,
      "outputs": []
    },
    {
      "cell_type": "code",
      "source": [
        "class Activation_Sigmoid:\n",
        "  # Forward pass\n",
        "  def forward(self, inputs):\n",
        "    self.output = 1 / (1 + torch.exp(inputs*-1))"
      ],
      "metadata": {
        "id": "VJlGdlKq57id"
      },
      "execution_count": 49,
      "outputs": []
    },
    {
      "cell_type": "code",
      "source": [
        "X = torch.tensor([0.1, 0.5])\n",
        "y = torch.tensor([0.05, 0.95])"
      ],
      "metadata": {
        "id": "ccnOXRK05VcT"
      },
      "execution_count": 50,
      "outputs": []
    },
    {
      "cell_type": "code",
      "source": [
        "hidden_layer_1 = DenseLayer(2, 4)\n",
        "activation_1 = Activation_Sigmoid()\n",
        "output_layer = DenseLayer(4, 2)\n",
        "activation_2 = Activation_Linear()"
      ],
      "metadata": {
        "id": "_Ekj2fFr5Svx"
      },
      "execution_count": 51,
      "outputs": []
    },
    {
      "cell_type": "code",
      "execution_count": 52,
      "metadata": {
        "id": "38F4lrKk4TOe"
      },
      "outputs": [],
      "source": [
        "def forward_pass(X):\n",
        "  hidden_layer_1.forward(X)\n",
        "  activation_1.forward(hidden_layer_1.output)\n",
        "  output_layer.forward(activation_1.output)\n",
        "  activation_2.forward(output_layer.output)\n",
        "  return activation_2.output"
      ]
    },
    {
      "cell_type": "code",
      "source": [
        "def back_prop(fp):\n",
        "  lr = torch.tensor(0.01)\n",
        "  back1 = (fp[0][0] - y[0]) * (1 - fp[0][0]) * fp[0][0]\n",
        "  back2 = (fp[0][1] - y[1]) * (1 - fp[0][1]) * fp[0][1]\n",
        "\n",
        "  # Update weights and biases of the output layer\n",
        "  output_layer.weights[0][0] -= lr * back1 * activation_2.output[0][0]\n",
        "  output_layer.weights[0][1] -= lr * back1 * activation_2.output[0][1]\n",
        "  output_layer.weights[1][0] -= lr * back2 * activation_2.output[0][0]\n",
        "  output_layer.weights[1][1] -= lr * back2 * activation_2.output[0][1]\n",
        "  output_layer.biases[0][0] -= lr * back1\n",
        "  output_layer.biases[0][1] -= lr * back2\n",
        "\n",
        "  # Update weights and biases of the hidden layer\n",
        "  hidden_layer_1.weights[0][0] -= lr * back1 * output_layer.weights[0][0] * activation_1.output[0][0] * (1 - activation_1.output[0][0]) * X[0]\n",
        "  hidden_layer_1.weights[0][1] -= lr * back1 * output_layer.weights[0][1] * activation_1.output[0][1] * (1 - activation_1.output[0][1]) * X[0]\n",
        "  hidden_layer_1.weights[1][0] -= lr * back2 * output_layer.weights[1][0] * activation_1.output[0][0] * (1 - activation_1.output[0][0]) * X[0]\n",
        "  hidden_layer_1.weights[1][1] -= lr * back2 * output_layer.weights[1][1] * activation_1.output[0][1] * (1 - activation_1.output[0][1]) * X[0]\n",
        "  hidden_layer_1.biases[0][0] -= lr * back1 * output_layer.weights[0][0] * activation_1.output[0][0] * (1 - activation_1.output[0][0])\n",
        "  hidden_layer_1.biases[0][1] -= lr * back1 * output_layer.weights[0][1] * activation_1.output[0][1] * (1 - activation_1.output[0][1])"
      ],
      "metadata": {
        "id": "_loRvDW-BrRL"
      },
      "execution_count": 53,
      "outputs": []
    },
    {
      "cell_type": "code",
      "source": [
        "def error_calculation(y_true, y_pred):\n",
        "  return torch.mean(0.5*(y_true - y_pred)**2)"
      ],
      "metadata": {
        "id": "KWOcV1TPBtTH"
      },
      "execution_count": 54,
      "outputs": []
    },
    {
      "cell_type": "code",
      "source": [
        "loss = 0.0001"
      ],
      "metadata": {
        "id": "UtT7jsaDByoQ"
      },
      "execution_count": 55,
      "outputs": []
    },
    {
      "cell_type": "code",
      "source": [
        "y_pred = forward_pass(X)\n",
        "err = error_calculation(y, y_pred)\n",
        "print(\"Initial loss:\", err)\n",
        "print(\"Initial prediction:\",y_pred)\n",
        "while err > loss:\n",
        "  back_prop(y_pred)\n",
        "  y_pred = forward_pass(X)\n",
        "  err = error_calculation(y, y_pred)\n",
        "print(\"Final loss:\", err)\n",
        "print(\"Final prediction:\",y_pred)\n",
        "print(\"Target value:\",y)"
      ],
      "metadata": {
        "colab": {
          "base_uri": "https://localhost:8080/"
        },
        "id": "lQKP-6e-Bz8s",
        "outputId": "8f95f973-e15c-4489-8609-f52f84da006b"
      },
      "execution_count": 56,
      "outputs": [
        {
          "output_type": "stream",
          "name": "stdout",
          "text": [
            "Initial loss: tensor(0.2209)\n",
            "Initial prediction: tensor([[0.0092, 0.0110]])\n",
            "Final loss: tensor(9.9942e-05)\n",
            "Final prediction: tensor([[0.0320, 0.9413]])\n",
            "Target value: tensor([0.0500, 0.9500])\n"
          ]
        }
      ]
    }
  ]
}