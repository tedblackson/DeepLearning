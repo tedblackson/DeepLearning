{
  "nbformat": 4,
  "nbformat_minor": 0,
  "metadata": {
    "colab": {
      "provenance": [],
      "authorship_tag": "ABX9TyMeu0YgdTP7sTxhIKYUbS+T",
      "include_colab_link": true
    },
    "kernelspec": {
      "name": "python3",
      "display_name": "Python 3"
    },
    "language_info": {
      "name": "python"
    }
  },
  "cells": [
    {
      "cell_type": "markdown",
      "metadata": {
        "id": "view-in-github",
        "colab_type": "text"
      },
      "source": [
        "<a href=\"https://colab.research.google.com/github/tedblackson/DeepLearning/blob/main/DL_Lab3_Exercise.ipynb\" target=\"_parent\"><img src=\"https://colab.research.google.com/assets/colab-badge.svg\" alt=\"Open In Colab\"/></a>"
      ]
    },
    {
      "cell_type": "markdown",
      "source": [
        "##Name: Tewodros Alemu\n",
        "##ID: UGR/7621/12\n",
        "\n",
        "\n",
        "\n"
      ],
      "metadata": {
        "id": "HGbYkpYNWcfV"
      }
    },
    {
      "cell_type": "code",
      "execution_count": 3,
      "metadata": {
        "id": "AUa-_QpqHB1P"
      },
      "outputs": [],
      "source": [
        "import torch\n",
        "class DenseLayer:\n",
        "  def __init__(self, features, nth_neurons):\n",
        "    self.weights = 0.01 * torch.rand(features, nth_neurons)\n",
        "    self.bias = torch.zeros((1, nth_neurons))\n",
        "\n",
        "  def forward(self, inputs):\n",
        "    self.output = torch.matmul(inputs, self.weights) + self.bias"
      ]
    },
    {
      "cell_type": "code",
      "source": [
        "class Activation_Sigmoid:\n",
        "    def forward(self, inputs):\n",
        "        self.output = 1 / (1 + torch.exp(-inputs))"
      ],
      "metadata": {
        "id": "KP3k9z87HN9D"
      },
      "execution_count": 4,
      "outputs": []
    },
    {
      "cell_type": "code",
      "source": [
        "class Activation_ReLU:\n",
        "    def forward(self, inputs):\n",
        "        self.output = torch.max(torch.zeros_like(inputs), inputs)\n"
      ],
      "metadata": {
        "id": "KCr5M4tHHQh2"
      },
      "execution_count": 5,
      "outputs": []
    },
    {
      "cell_type": "code",
      "source": [
        "class Activation_Softmax:\n",
        "    def forward(self, inputs):\n",
        "        exp_values = torch.exp(inputs - torch.max(inputs, dim=1, keepdim=True).values)\n",
        "        probabilities = exp_values / torch.sum(exp_values, dim=1, keepdim=True)\n",
        "        self.output = probabilities"
      ],
      "metadata": {
        "id": "MBNy3FHxHTMU"
      },
      "execution_count": 6,
      "outputs": []
    },
    {
      "cell_type": "code",
      "source": [
        "class Loss_CategoricalCrossentropy:\n",
        "    def forward(self, y_pred, y_true):\n",
        "        num_samples = y_pred.shape[0]\n",
        "        y_pred_clipped = torch.clip(y_pred, 1e-7, 1 - 1e-7)\n",
        "        log_likelihoods = -torch.log(y_pred_clipped[range(num_samples), y_true])\n",
        "        return log_likelihoods.mean()"
      ],
      "metadata": {
        "id": "T6ESGEAIKSEn"
      },
      "execution_count": 7,
      "outputs": []
    },
    {
      "cell_type": "code",
      "source": [
        "class NeuralNetwork:\n",
        "    def __init__(self, input_size, hidden_layers, neurons_per_layer, output_size):\n",
        "        self.layers = []\n",
        "        self.activations = []\n",
        "\n",
        "        # Input layer\n",
        "        self.layers.append(DenseLayer(input_size, neurons_per_layer))\n",
        "        self.activations.append(Activation_ReLU())\n",
        "\n",
        "        # Hidden layers\n",
        "        for _ in range(hidden_layers):\n",
        "            self.layers.append(DenseLayer(neurons_per_layer, neurons_per_layer))\n",
        "            self.activations.append(Activation_ReLU())\n",
        "\n",
        "        # Output layer\n",
        "        self.layers.append(DenseLayer(neurons_per_layer, output_size))\n",
        "        self.activations.append(Activation_Softmax())\n",
        "\n",
        "    def forward(self, inputs):\n",
        "        for layer, activation in zip(self.layers, self.activations):\n",
        "            layer.forward(inputs)\n",
        "            activation.forward(layer.output)\n",
        "            inputs = activation.output\n",
        "\n",
        "        self.output = inputs\n",
        "\n",
        "    def predict(self, inputs):\n",
        "        self.forward(inputs)\n",
        "        return torch.argmax(self.output, dim=1)\n",
        "\n",
        "    def calculate_loss(self, inputs, targets):\n",
        "        self.forward(inputs)\n",
        "        loss = Loss_CategoricalCrossentropy()\n",
        "        return loss.forward(self.output, targets)\n",
        "\n",
        "    def calculate_accuracy(self, inputs, targets):\n",
        "        predictions = self.predict(inputs)\n",
        "        correct = torch.sum(predictions == targets).item()\n",
        "        accuracy = correct / len(targets)\n",
        "        return accuracy\n"
      ],
      "metadata": {
        "id": "SOaum2lGFlqJ"
      },
      "execution_count": 8,
      "outputs": []
    },
    {
      "cell_type": "code",
      "source": [
        "input_size = 4\n",
        "hidden_layers = 3\n",
        "neurons_per_layer = 18\n",
        "output_size = 3\n"
      ],
      "metadata": {
        "id": "XyQZhvzeFyZT"
      },
      "execution_count": 9,
      "outputs": []
    },
    {
      "cell_type": "code",
      "source": [
        "model = NeuralNetwork(input_size, hidden_layers, neurons_per_layer, output_size)\n"
      ],
      "metadata": {
        "id": "MQrUk15gFzhU"
      },
      "execution_count": 10,
      "outputs": []
    },
    {
      "cell_type": "code",
      "source": [
        "inputs = torch.randn(100, input_size)\n",
        "targets = torch.randint(0, output_size, (100,))\n",
        "model.forward(inputs)\n"
      ],
      "metadata": {
        "id": "gIEJelK2F-9E"
      },
      "execution_count": 11,
      "outputs": []
    },
    {
      "cell_type": "code",
      "source": [
        "loss = model.calculate_loss(inputs, targets)\n",
        "accuracy = model.calculate_accuracy(inputs, targets)\n",
        "\n",
        "print(\"Loss:\", loss)\n",
        "print(\"Accuracy:\", accuracy)"
      ],
      "metadata": {
        "colab": {
          "base_uri": "https://localhost:8080/"
        },
        "id": "9ATmsrZbV_pe",
        "outputId": "62609202-c659-474c-bdde-60d6980661b3"
      },
      "execution_count": 12,
      "outputs": [
        {
          "output_type": "stream",
          "name": "stdout",
          "text": [
            "Loss: tensor(1.0986)\n",
            "Accuracy: 0.29\n"
          ]
        }
      ]
    }
  ]
}