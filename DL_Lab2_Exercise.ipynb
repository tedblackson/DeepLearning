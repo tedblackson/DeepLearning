{
  "nbformat": 4,
  "nbformat_minor": 0,
  "metadata": {
    "colab": {
      "provenance": [],
      "authorship_tag": "ABX9TyNxkt19e1gTMy9TEgmvnNgG",
      "include_colab_link": true
    },
    "kernelspec": {
      "name": "python3",
      "display_name": "Python 3"
    },
    "language_info": {
      "name": "python"
    }
  },
  "cells": [
    {
      "cell_type": "markdown",
      "metadata": {
        "id": "view-in-github",
        "colab_type": "text"
      },
      "source": [
        "<a href=\"https://colab.research.google.com/github/tedblackson/DeepLearning/blob/main/DL_Lab2_Exercise.ipynb\" target=\"_parent\"><img src=\"https://colab.research.google.com/assets/colab-badge.svg\" alt=\"Open In Colab\"/></a>"
      ]
    },
    {
      "cell_type": "markdown",
      "source": [
        "##Name: Tewodros Alemu          \n",
        "##ID: UGR/7621/12"
      ],
      "metadata": {
        "id": "oU_7ci_dz2MS"
      }
    },
    {
      "cell_type": "code",
      "execution_count": 12,
      "metadata": {
        "id": "9ys0HX54vxO1"
      },
      "outputs": [],
      "source": [
        "import torch\n",
        "class DenseLayer:\n",
        "  def __init__(self, features, nth_neurons):\n",
        "    #inititalize weight and bias\n",
        "    self.weights = 0.01 * torch.rand(features, nth_neurons)\n",
        "    self.bias = torch.zeros((1, nth_neurons))\n",
        "\n",
        "  def forward(self, inputs):\n",
        "    self.output = torch.matmul(inputs, self.weights) + self.bias"
      ]
    },
    {
      "cell_type": "code",
      "source": [
        "x = torch.rand(2, 5)"
      ],
      "metadata": {
        "id": "6lXopwAmwVR_"
      },
      "execution_count": 13,
      "outputs": []
    },
    {
      "cell_type": "code",
      "source": [
        "layer1 = DenseLayer(5, 16)\n",
        "layer2 = DenseLayer(16, 16)\n",
        "layer3 = DenseLayer(16, 16)\n",
        "output_layer = DenseLayer(16, 5)\n"
      ],
      "metadata": {
        "id": "PGXDUIcmwq35"
      },
      "execution_count": 21,
      "outputs": []
    },
    {
      "cell_type": "markdown",
      "source": [],
      "metadata": {
        "id": "bvNVjlHaz0AV"
      }
    },
    {
      "cell_type": "code",
      "source": [
        "layer1.forward(x)\n",
        "layer2.forward(layer1.output)\n",
        "layer3.forward(layer2.output)\n",
        "output_layer.forward(layer3.output)\n",
        "output_layer.output"
      ],
      "metadata": {
        "colab": {
          "base_uri": "https://localhost:8080/"
        },
        "id": "AbQPX_K4w0N9",
        "outputId": "c2964172-448a-4abc-c518-7064fe13713e"
      },
      "execution_count": 22,
      "outputs": [
        {
          "output_type": "execute_result",
          "data": {
            "text/plain": [
              "tensor([[7.2346e-06, 6.7328e-06, 6.4815e-06, 6.6358e-06, 5.1545e-06],\n",
              "        [8.0172e-06, 7.4610e-06, 7.1874e-06, 7.3616e-06, 5.7162e-06]])"
            ]
          },
          "metadata": {},
          "execution_count": 22
        }
      ]
    }
  ]
}